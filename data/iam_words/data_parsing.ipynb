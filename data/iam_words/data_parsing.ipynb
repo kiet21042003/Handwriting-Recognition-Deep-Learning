{
 "cells": [
  {
   "cell_type": "code",
   "execution_count": 1,
   "metadata": {},
   "outputs": [],
   "source": [
    "import os\n",
    "import csv\n"
   ]
  },
  {
   "cell_type": "code",
   "execution_count": 6,
   "metadata": {},
   "outputs": [],
   "source": [
    "label = []\n",
    "count = 0\n",
    "with open(\"../ascii/words.txt\", 'r') as file:\n",
    "    for line in file:\n",
    "        text = line.strip().split()\n",
    "        if ('#' not in text[0]):\n",
    "            try:\n",
    "                count += 1\n",
    "                label.append([count, text[0]+\".png\", text[8]])\n",
    "            except:\n",
    "                print(text)\n",
    "\n",
    "with open(\"label.csv\", 'w', newline='') as csvfile:\n",
    "    writer = csv.writer(csvfile, delimiter='\\t')\n",
    "    writer.writerow(['No', 'Name', 'Label'])\n",
    "    for row in label:\n",
    "        writer.writerow(row)"
   ]
  },
  {
   "cell_type": "code",
   "execution_count": 5,
   "metadata": {},
   "outputs": [
    {
     "name": "stdout",
     "output_type": "stream",
     "text": [
      "115320\n"
     ]
    }
   ],
   "source": [
    "import os\n",
    "\n",
    "path = 'words'\n",
    "count = 0\n",
    "\n",
    "for fd_l1, fd_l2, files in os.walk(path):\n",
    "    for file in files:\n",
    "        if file.endswith('.png'):\n",
    "            count += 1\n",
    "\n",
    "print(count)\n"
   ]
  },
  {
   "cell_type": "code",
   "execution_count": 1,
   "metadata": {},
   "outputs": [
    {
     "name": "stdout",
     "output_type": "stream",
     "text": [
      "Flattening complete!\n"
     ]
    }
   ],
   "source": [
    "import os\n",
    "import shutil\n",
    "\n",
    "source_dir = 'words'\n",
    "destination_dir = 'images'\n",
    "\n",
    "for root, dirs, files in os.walk(source_dir):\n",
    "    for file in files:\n",
    "        if file.lower().endswith('.png'):\n",
    "            source_file = os.path.join(root, file)\n",
    "            os.makedirs(destination_dir, exist_ok=True)\n",
    "            shutil.move(source_file, destination_dir)\n",
    "\n",
    "print('Flattening complete!')"
   ]
  },
  {
   "cell_type": "code",
   "execution_count": 4,
   "metadata": {},
   "outputs": [
    {
     "name": "stdout",
     "output_type": "stream",
     "text": [
      "Images copied to the train folder.\n"
     ]
    }
   ],
   "source": [
    "import csv\n",
    "import os\n",
    "import shutil\n",
    "\n",
    "# Path to the CSV files\n",
    "train_csv_file = 'IAM_splitting/A/test.csv'\n",
    "data_folder = '/home/wallace/Code/HUST/data'\n",
    "train_folder = '/home/wallace/Code/HUST/test'\n",
    "\n",
    "# Open the train.csv file\n",
    "with open(train_csv_file, 'r') as file:\n",
    "    # Create a CSV reader object\n",
    "    reader = csv.reader(file, delimiter=\"\\t\")\n",
    "    \n",
    "    # Skip the header row\n",
    "    next(reader)\n",
    "    \n",
    "    # Iterate over each row in the CSV file\n",
    "    for row in reader:\n",
    "        # Extract the image name and label from the row\n",
    "        image_name = row[1]\n",
    "        \n",
    "        # Path to the source image file\n",
    "        source_image_path = os.path.join(data_folder, image_name)\n",
    "        \n",
    "        # Create the destination directory if it doesn't exist\n",
    "        os.makedirs(train_folder, exist_ok=True)\n",
    "        \n",
    "        # Path to the destination image file\n",
    "        destination_image_path = os.path.join(train_folder, image_name)\n",
    "        \n",
    "        # Copy the image file to the train folder\n",
    "        shutil.copyfile(source_image_path, destination_image_path)\n",
    "\n",
    "print('Images copied to the train folder.')"
   ]
  },
  {
   "cell_type": "code",
   "execution_count": null,
   "metadata": {},
   "outputs": [],
   "source": []
  }
 ],
 "metadata": {
  "kernelspec": {
   "display_name": "deep_learning_project",
   "language": "python",
   "name": "python3"
  },
  "language_info": {
   "codemirror_mode": {
    "name": "ipython",
    "version": 3
   },
   "file_extension": ".py",
   "mimetype": "text/x-python",
   "name": "python",
   "nbconvert_exporter": "python",
   "pygments_lexer": "ipython3",
   "version": "3.10.12"
  }
 },
 "nbformat": 4,
 "nbformat_minor": 2
}
